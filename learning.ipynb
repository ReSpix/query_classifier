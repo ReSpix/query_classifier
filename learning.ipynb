{
 "cells": [
  {
   "cell_type": "code",
   "execution_count": 300,
   "metadata": {},
   "outputs": [],
   "source": [
    "import pandas as pd"
   ]
  },
  {
   "cell_type": "code",
   "execution_count": 301,
   "metadata": {},
   "outputs": [],
   "source": [
    "from pymorphy3 import MorphAnalyzer\n",
    "from nltk.corpus import stopwords\n",
    "\n",
    "morph = MorphAnalyzer()\n",
    "stopwords_ru = stopwords.words(\"russian\")\n",
    "\n",
    "def morphe(str):\n",
    "    return ' '.join([morph.normal_forms(w)[0] for w in str.split() if w not in stopwords_ru])\n",
    "\n",
    "def morphem(df):\n",
    "    from nltk.corpus import stopwords\n",
    "    from pymorphy3 import MorphAnalyzer\n",
    "    morph = MorphAnalyzer()\n",
    "    stopwords_ru = stopwords.words(\"russian\")\n",
    "    df = df.copy()\n",
    "    df['query'].apply(lambda str:' '.join([morph.normal_forms(w.lower())[0] for w in str.split() if w not in stopwords_ru]))\n",
    "    return df"
   ]
  },
  {
   "cell_type": "code",
   "execution_count": 302,
   "metadata": {},
   "outputs": [],
   "source": [
    "fillna_columns = [\n",
    "    \"занятость\",\n",
    "    \"по должности-лемме\",\n",
    "    \"по дополнительному признаку\",\n",
    "    \"по условиям\",\n",
    "    \"общие фразы\",\n",
    "]"
   ]
  },
  {
   "cell_type": "code",
   "execution_count": 303,
   "metadata": {},
   "outputs": [],
   "source": [
    "df = pd.read_csv(\"answers.csv\", index_col='Unnamed: 0')\n",
    "for col in fillna_columns:\n",
    "    df.fillna({col: f'{col}_нет'}, inplace=True)"
   ]
  },
  {
   "cell_type": "code",
   "execution_count": 304,
   "metadata": {},
   "outputs": [],
   "source": [
    "onehot_columns = ['по должности-лемме', 'общие фразы']\n",
    "multilabel_columns = ['занятость', 'по дополнительному признаку',  'по условиям']\n",
    "vectorizer_columns = 'query'"
   ]
  },
  {
   "cell_type": "code",
   "execution_count": 305,
   "metadata": {},
   "outputs": [],
   "source": [
    "def split(x):\n",
    "    return [i for i in set([x.lower() for x in x.split(',')]) if len(i)>0]\n",
    "\n",
    "for col in multilabel_columns:\n",
    "    df[col] = df[col].apply(lambda x: split(x))"
   ]
  },
  {
   "cell_type": "code",
   "execution_count": 306,
   "metadata": {},
   "outputs": [],
   "source": [
    "X = df[['query']]\n",
    "y = df.drop(columns=['query'])"
   ]
  },
  {
   "cell_type": "code",
   "execution_count": 307,
   "metadata": {},
   "outputs": [
    {
     "data": {
      "text/html": [
       "<div>\n",
       "<style scoped>\n",
       "    .dataframe tbody tr th:only-of-type {\n",
       "        vertical-align: middle;\n",
       "    }\n",
       "\n",
       "    .dataframe tbody tr th {\n",
       "        vertical-align: top;\n",
       "    }\n",
       "\n",
       "    .dataframe thead th {\n",
       "        text-align: right;\n",
       "    }\n",
       "</style>\n",
       "<table border=\"1\" class=\"dataframe\">\n",
       "  <thead>\n",
       "    <tr style=\"text-align: right;\">\n",
       "      <th></th>\n",
       "      <th>занятость</th>\n",
       "      <th>по должности-лемме</th>\n",
       "      <th>по дополнительному признаку</th>\n",
       "      <th>по условиям</th>\n",
       "      <th>общие фразы</th>\n",
       "    </tr>\n",
       "  </thead>\n",
       "  <tbody>\n",
       "    <tr>\n",
       "      <th>0</th>\n",
       "      <td>[занятость_нет]</td>\n",
       "      <td>по должности-лемме_нет</td>\n",
       "      <td>[по дополнительному признаку_нет]</td>\n",
       "      <td>[по условиям_нет]</td>\n",
       "      <td>общая фраза</td>\n",
       "    </tr>\n",
       "    <tr>\n",
       "      <th>1</th>\n",
       "      <td>[занятость_нет]</td>\n",
       "      <td>по должности-лемме_нет</td>\n",
       "      <td>[по дополнительному признаку_нет]</td>\n",
       "      <td>[по условиям_нет]</td>\n",
       "      <td>общая фраза</td>\n",
       "    </tr>\n",
       "    <tr>\n",
       "      <th>2</th>\n",
       "      <td>[занятость_нет]</td>\n",
       "      <td>Рабочий</td>\n",
       "      <td>[по дополнительному признаку_нет]</td>\n",
       "      <td>[по условиям_нет]</td>\n",
       "      <td>общие фразы_нет</td>\n",
       "    </tr>\n",
       "    <tr>\n",
       "      <th>3</th>\n",
       "      <td>[на неполный день]</td>\n",
       "      <td>Водитель</td>\n",
       "      <td>[по дополнительному признаку_нет]</td>\n",
       "      <td>[по условиям_нет]</td>\n",
       "      <td>общие фразы_нет</td>\n",
       "    </tr>\n",
       "    <tr>\n",
       "      <th>4</th>\n",
       "      <td>[занятость_нет]</td>\n",
       "      <td>Водитель</td>\n",
       "      <td>[по дополнительному признаку_нет]</td>\n",
       "      <td>[по условиям_нет]</td>\n",
       "      <td>общие фразы_нет</td>\n",
       "    </tr>\n",
       "    <tr>\n",
       "      <th>...</th>\n",
       "      <td>...</td>\n",
       "      <td>...</td>\n",
       "      <td>...</td>\n",
       "      <td>...</td>\n",
       "      <td>...</td>\n",
       "    </tr>\n",
       "    <tr>\n",
       "      <th>14240</th>\n",
       "      <td>[занятость_нет]</td>\n",
       "      <td>по должности-лемме_нет</td>\n",
       "      <td>[по дополнительному признаку_нет]</td>\n",
       "      <td>[по условиям_нет]</td>\n",
       "      <td>общая фраза</td>\n",
       "    </tr>\n",
       "    <tr>\n",
       "      <th>14241</th>\n",
       "      <td>[занятость_нет]</td>\n",
       "      <td>по должности-лемме_нет</td>\n",
       "      <td>[по дополнительному признаку_нет]</td>\n",
       "      <td>[по условиям_нет]</td>\n",
       "      <td>общая фраза</td>\n",
       "    </tr>\n",
       "    <tr>\n",
       "      <th>14242</th>\n",
       "      <td>[занятость_нет]</td>\n",
       "      <td>по должности-лемме_нет</td>\n",
       "      <td>[по дополнительному признаку_нет]</td>\n",
       "      <td>[по условиям_нет]</td>\n",
       "      <td>общая фраза</td>\n",
       "    </tr>\n",
       "    <tr>\n",
       "      <th>14243</th>\n",
       "      <td>[занятость_нет]</td>\n",
       "      <td>по должности-лемме_нет</td>\n",
       "      <td>[по дополнительному признаку_нет]</td>\n",
       "      <td>[по условиям_нет]</td>\n",
       "      <td>общая фраза</td>\n",
       "    </tr>\n",
       "    <tr>\n",
       "      <th>14244</th>\n",
       "      <td>[занятость_нет]</td>\n",
       "      <td>по должности-лемме_нет</td>\n",
       "      <td>[по дополнительному признаку_нет]</td>\n",
       "      <td>[по условиям_нет]</td>\n",
       "      <td>общая фраза</td>\n",
       "    </tr>\n",
       "  </tbody>\n",
       "</table>\n",
       "<p>14245 rows × 5 columns</p>\n",
       "</div>"
      ],
      "text/plain": [
       "                занятость      по должности-лемме  \\\n",
       "0         [занятость_нет]  по должности-лемме_нет   \n",
       "1         [занятость_нет]  по должности-лемме_нет   \n",
       "2         [занятость_нет]                 Рабочий   \n",
       "3      [на неполный день]                Водитель   \n",
       "4         [занятость_нет]                Водитель   \n",
       "...                   ...                     ...   \n",
       "14240     [занятость_нет]  по должности-лемме_нет   \n",
       "14241     [занятость_нет]  по должности-лемме_нет   \n",
       "14242     [занятость_нет]  по должности-лемме_нет   \n",
       "14243     [занятость_нет]  по должности-лемме_нет   \n",
       "14244     [занятость_нет]  по должности-лемме_нет   \n",
       "\n",
       "             по дополнительному признаку        по условиям      общие фразы  \n",
       "0      [по дополнительному признаку_нет]  [по условиям_нет]      общая фраза  \n",
       "1      [по дополнительному признаку_нет]  [по условиям_нет]      общая фраза  \n",
       "2      [по дополнительному признаку_нет]  [по условиям_нет]  общие фразы_нет  \n",
       "3      [по дополнительному признаку_нет]  [по условиям_нет]  общие фразы_нет  \n",
       "4      [по дополнительному признаку_нет]  [по условиям_нет]  общие фразы_нет  \n",
       "...                                  ...                ...              ...  \n",
       "14240  [по дополнительному признаку_нет]  [по условиям_нет]      общая фраза  \n",
       "14241  [по дополнительному признаку_нет]  [по условиям_нет]      общая фраза  \n",
       "14242  [по дополнительному признаку_нет]  [по условиям_нет]      общая фраза  \n",
       "14243  [по дополнительному признаку_нет]  [по условиям_нет]      общая фраза  \n",
       "14244  [по дополнительному признаку_нет]  [по условиям_нет]      общая фраза  \n",
       "\n",
       "[14245 rows x 5 columns]"
      ]
     },
     "execution_count": 307,
     "metadata": {},
     "output_type": "execute_result"
    }
   ],
   "source": [
    "y"
   ]
  },
  {
   "cell_type": "code",
   "execution_count": 308,
   "metadata": {},
   "outputs": [],
   "source": [
    "from sklearn.pipeline import Pipeline\n",
    "from sklearn.preprocessing import OneHotEncoder\n",
    "from sklearn.preprocessing import MultiLabelBinarizer\n",
    "from sklearn.compose import ColumnTransformer\n",
    "\n",
    "from sklearn.feature_extraction.text import CountVectorizer\n"
   ]
  },
  {
   "cell_type": "code",
   "execution_count": 309,
   "metadata": {},
   "outputs": [],
   "source": [
    "from sklearn.pipeline import FunctionTransformer\n",
    "\n",
    "\n",
    "preprocessor_y = ColumnTransformer(\n",
    "    transformers=[\n",
    "\n",
    "        (\n",
    "            \"onehot\",\n",
    "            OneHotEncoder(sparse_output=False, handle_unknown='ignore'),\n",
    "            onehot_columns,\n",
    "        ),\n",
    "        ('multilabel0', CountVectorizer(analyzer=set), multilabel_columns[0]),\n",
    "        (\"multilabel1\", CountVectorizer(analyzer=set), multilabel_columns[1]),\n",
    "        (\"multilabel2\", CountVectorizer(analyzer=set), multilabel_columns[2]),\n",
    "        # (\"vectorizer\", CountVectorizer(), vectorizer_columns),\n",
    "    ]\n",
    ")\n",
    "\n",
    "preprocessor_x = Pipeline([\n",
    "    ('morphem', FunctionTransformer(morphem)),\n",
    "    ('vectorizer', ColumnTransformer([('vectorize', CountVectorizer(), vectorizer_columns)])),\n",
    "])"
   ]
  },
  {
   "cell_type": "code",
   "execution_count": 310,
   "metadata": {},
   "outputs": [],
   "source": [
    "from sklearn.base import BaseEstimator, TransformerMixin\n",
    "\n",
    "\n",
    "class InverseTransformer(BaseEstimator, TransformerMixin):\n",
    "    def __init__(self, pipe):\n",
    "        self.pipe = pipe\n",
    "\n",
    "    def fit(self, X, y=None):\n",
    "        return self\n",
    "\n",
    "    def transform(self, X):\n",
    "        arr = X[0]\n",
    "        inverse_transformers = self.pipe.transformers_\n",
    "\n",
    "        len1 = len(inverse_transformers[0][1].get_feature_names_out())\n",
    "        len2 = len(list(inverse_transformers[1][1].vocabulary_.keys()))\n",
    "        len3 = len(list(inverse_transformers[2][1].vocabulary_.keys()))\n",
    "\n",
    "        res = inverse_transformers[0][1].inverse_transform([arr[:len1]])\n",
    "        res2 = inverse_transformers[1][1].inverse_transform([arr[len1 : len1 + len2]])\n",
    "        res3 = inverse_transformers[2][1].inverse_transform([arr[len1 + len2 : len1 + len2 + len3]])\n",
    "        res4 = inverse_transformers[3][1].inverse_transform([arr[len1 + len2 + len3:]])\n",
    "\n",
    "        output = dict(zip(inverse_transformers[0][1].feature_names_in_, res[0]))\n",
    "        output[\"занятость\"] = res2[0].tolist()\n",
    "        output[\"по дополнительному признаку\"] = res3[0].tolist()\n",
    "        output[\"по условиям\"] = res4[0].tolist()\n",
    "\n",
    "        for key, value in output.items():\n",
    "            if value is None:\n",
    "                output[key] = 'Нет'\n",
    "            if isinstance(value, list):\n",
    "                for idx, item in enumerate(value):\n",
    "                    output[key][idx] = item.replace(f'{key}_нет', 'Нет')\n",
    "            else:\n",
    "                output[key] = output[key].replace(f'{key}_нет', 'Нет')\n",
    "        return output"
   ]
  },
  {
   "cell_type": "code",
   "execution_count": 311,
   "metadata": {},
   "outputs": [],
   "source": [
    "from sklearn.tree import DecisionTreeClassifier"
   ]
  },
  {
   "cell_type": "code",
   "execution_count": 312,
   "metadata": {},
   "outputs": [],
   "source": [
    "# pipeline = Pipeline([\n",
    "#     (\"preprocessor\", preprocessor),\n",
    "#     (\"model\", MLPClassifier(max_iter=400)),\n",
    "#     (\"inverse\", FunctionTransformer())\n",
    "# ])"
   ]
  },
  {
   "cell_type": "code",
   "execution_count": 313,
   "metadata": {},
   "outputs": [
    {
     "data": {
      "text/plain": [
       "array([[0., 0., 0., ..., 1., 0., 0.],\n",
       "       [0., 0., 0., ..., 1., 0., 0.],\n",
       "       [0., 0., 0., ..., 1., 0., 0.],\n",
       "       ...,\n",
       "       [0., 0., 0., ..., 1., 0., 0.],\n",
       "       [0., 0., 0., ..., 1., 0., 0.],\n",
       "       [0., 0., 0., ..., 1., 0., 0.]])"
      ]
     },
     "execution_count": 313,
     "metadata": {},
     "output_type": "execute_result"
    }
   ],
   "source": [
    "y_prep = preprocessor_y.fit_transform(y)\n",
    "y_prep"
   ]
  },
  {
   "cell_type": "code",
   "execution_count": 314,
   "metadata": {},
   "outputs": [],
   "source": [
    "# x_prep = preprocessor_x.fit_transform(X)\n",
    "# x_prep.todense()"
   ]
  },
  {
   "cell_type": "code",
   "execution_count": 315,
   "metadata": {},
   "outputs": [],
   "source": [
    "# model = MLPClassifier(max_iter=400)\n",
    "model = DecisionTreeClassifier()"
   ]
  },
  {
   "cell_type": "code",
   "execution_count": 316,
   "metadata": {},
   "outputs": [],
   "source": [
    "from sklearn.tree import DecisionTreeClassifier\n",
    "from sklearn.multioutput import MultiOutputClassifier\n",
    "from sklearn.neural_network import MLPClassifier\n",
    "\n",
    "\n",
    "from sklearn.model_selection import train_test_split\n",
    "from sklearn.metrics import accuracy_score, r2_score\n",
    "\n",
    "models = [\n",
    "    \n",
    "    MultiOutputClassifier(DecisionTreeClassifier()), #0.8177774309672764\n",
    "    MLPClassifier(max_iter=400)\n",
    "]\n"
   ]
  },
  {
   "cell_type": "code",
   "execution_count": 317,
   "metadata": {},
   "outputs": [],
   "source": [
    "from sklearn.model_selection import cross_val_score"
   ]
  },
  {
   "cell_type": "code",
   "execution_count": 318,
   "metadata": {},
   "outputs": [],
   "source": [
    "pipeline = Pipeline(steps=[\n",
    "    (\"preprocessor\", preprocessor_x),\n",
    "    (\"model\", model),\n",
    "    # (\"inverse\", InverseTransformer(preprocessor_y))\n",
    "])\n",
    "\n",
    "inverser = InverseTransformer(preprocessor_y)"
   ]
  },
  {
   "cell_type": "code",
   "execution_count": 319,
   "metadata": {},
   "outputs": [
    {
     "name": "stdout",
     "output_type": "stream",
     "text": [
      "Модель: MultiOutputClassifier(estimator=DecisionTreeClassifier())\n",
      "Точность: 0.8238507437836979\n",
      "Время: 15.887998104095459\n",
      "\n",
      "\n",
      "Модель: MLPClassifier(max_iter=400)\n",
      "Точность: 0.8173370069443464\n",
      "Время: 585.7514081001282\n",
      "\n",
      "\n"
     ]
    }
   ],
   "source": [
    "import time\n",
    "\n",
    "bestpipe = None\n",
    "bestscore = 0\n",
    "\n",
    "for m in models:\n",
    "    pipeline2 = Pipeline(\n",
    "        steps=[\n",
    "            (\"preprocessor\", preprocessor_x),\n",
    "            (\"model\", m),\n",
    "            # (\"inverse\", InverseTransformer(preprocessor_y))\n",
    "        ]\n",
    "    )\n",
    "    start_time = time.time()\n",
    "\n",
    "    try:\n",
    "        # score = cross_val_score(pipeline2, X, y_prep, cv=4, n_jobs=-1)\n",
    "        \n",
    "        # Split the data into training and testing sets\n",
    "        X_train, X_test, y_train, y_test = train_test_split(X, y_prep, test_size=0.15, random_state=42)\n",
    "        \n",
    "        # Fit the model\n",
    "        pipeline2.fit(X_train, y_train)\n",
    "        \n",
    "        # Predict on the test set\n",
    "        y_pred = pipeline2.predict(X_test)\n",
    "        \n",
    "        # Calculate the score\n",
    "        if y_test.ndim == 1 or y_test.shape[1] == 1:\n",
    "            score = accuracy_score(y_test, y_pred)  # For classification\n",
    "        else:\n",
    "            score = r2_score(y_test, y_pred)  # For regression\n",
    "    except Exception as e:\n",
    "        print('----------------')\n",
    "        print(m)\n",
    "        print(e)\n",
    "        print('----------------')\n",
    "        continue\n",
    "\n",
    "    end_time = time.time()\n",
    "    loop_time = end_time - start_time\n",
    "\n",
    "    print(f'Модель: {m}\\nТочность: {score}\\nВремя: {loop_time}\\n\\n')\n",
    "    if score > bestscore:\n",
    "        bestscore = score\n",
    "        bestpipe = pipeline2"
   ]
  },
  {
   "cell_type": "code",
   "execution_count": 320,
   "metadata": {},
   "outputs": [],
   "source": [
    "# pipeline.fit(X, y_prep)"
   ]
  },
  {
   "cell_type": "code",
   "execution_count": 336,
   "metadata": {},
   "outputs": [],
   "source": [
    "example_qeury = \"работа бухгалтером с ежедневной оплатой без опыта удаленно\"\n",
    "\n",
    "frame = pd.DataFrame({'query': [example_qeury]})\n",
    "preds = bestpipe.predict(frame)"
   ]
  },
  {
   "cell_type": "code",
   "execution_count": 337,
   "metadata": {},
   "outputs": [
    {
     "data": {
      "text/plain": [
       "{'по должности-лемме': 'Бухгалтер',\n",
       " 'общие фразы': 'Нет',\n",
       " 'занятость': ['удаленная'],\n",
       " 'по дополнительному признаку': ['без опыта'],\n",
       " 'по условиям': ['с ежедневной оплатой']}"
      ]
     },
     "execution_count": 337,
     "metadata": {},
     "output_type": "execute_result"
    }
   ],
   "source": [
    "# example_prep = preprocessor_x.transform(frame)\n",
    "# preds = model.predict(example_prep)\n",
    "# preds = pipeline.predict(frame)\n",
    "result = inverser.transform(preds)\n",
    "# cut = preds[0]\n",
    "result"
   ]
  },
  {
   "cell_type": "code",
   "execution_count": 323,
   "metadata": {},
   "outputs": [],
   "source": [
    "# from joblib import dump\n",
    "# dump(pipeline, 'model.joblib')"
   ]
  },
  {
   "cell_type": "code",
   "execution_count": 338,
   "metadata": {},
   "outputs": [],
   "source": [
    "import dill\n",
    "\n",
    "with open('model.pkl', 'wb') as file:\n",
    "    pipe_data = {\n",
    "        'pipeline': bestpipe,\n",
    "        'inverser': inverser\n",
    "    }\n",
    "    dill.dump(pipe_data, file)"
   ]
  },
  {
   "cell_type": "code",
   "execution_count": 325,
   "metadata": {},
   "outputs": [],
   "source": [
    "# inverse_transformers = preprocessor_y.transformers_"
   ]
  },
  {
   "cell_type": "code",
   "execution_count": 326,
   "metadata": {},
   "outputs": [],
   "source": [
    "# list(inverse_transformers[1][1].vocabulary_.keys())"
   ]
  },
  {
   "cell_type": "code",
   "execution_count": 327,
   "metadata": {},
   "outputs": [],
   "source": [
    "# res = inverse_transformers[0][1].inverse_transform([cut[:303]])\n",
    "# res"
   ]
  },
  {
   "cell_type": "code",
   "execution_count": 328,
   "metadata": {},
   "outputs": [],
   "source": [
    "# output = dict(zip(inverse_transformers[0][1].feature_names_in_, res[0]))"
   ]
  },
  {
   "cell_type": "code",
   "execution_count": 329,
   "metadata": {},
   "outputs": [],
   "source": [
    "# res2 = inverse_transformers[1][1].inverse_transform([cut[303:316]])\n",
    "# output['занятость'] = res2[0].tolist()"
   ]
  },
  {
   "cell_type": "code",
   "execution_count": 330,
   "metadata": {},
   "outputs": [],
   "source": [
    "# res2"
   ]
  },
  {
   "cell_type": "code",
   "execution_count": 331,
   "metadata": {},
   "outputs": [],
   "source": [
    "# res3 = inverse_transformers[2][1].inverse_transform([cut[316:]])\n",
    "# output['по дополнительному признаку'] = res3[0].tolist()"
   ]
  },
  {
   "cell_type": "code",
   "execution_count": 332,
   "metadata": {},
   "outputs": [],
   "source": [
    "# output"
   ]
  }
 ],
 "metadata": {
  "kernelspec": {
   "display_name": ".venv",
   "language": "python",
   "name": "python3"
  },
  "language_info": {
   "codemirror_mode": {
    "name": "ipython",
    "version": 3
   },
   "file_extension": ".py",
   "mimetype": "text/x-python",
   "name": "python",
   "nbconvert_exporter": "python",
   "pygments_lexer": "ipython3",
   "version": "3.12.4"
  }
 },
 "nbformat": 4,
 "nbformat_minor": 2
}
