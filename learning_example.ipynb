{
 "cells": [
  {
   "cell_type": "code",
   "execution_count": 49,
   "metadata": {},
   "outputs": [],
   "source": [
    "import pandas as pd"
   ]
  },
  {
   "cell_type": "code",
   "execution_count": 50,
   "metadata": {},
   "outputs": [],
   "source": [
    "from nltk.stem.snowball import SnowballStemmer\n",
    "\n",
    "stemmer = SnowballStemmer(\"russian\")"
   ]
  },
  {
   "cell_type": "code",
   "execution_count": 51,
   "metadata": {},
   "outputs": [],
   "source": [
    "column = 'по должности-лемме'"
   ]
  },
  {
   "cell_type": "code",
   "execution_count": 52,
   "metadata": {},
   "outputs": [],
   "source": [
    "from pymorphy3 import MorphAnalyzer\n",
    "morph = MorphAnalyzer()\n",
    "#for i in 'работа финансовым директором'.split():\n",
    "#    print(morph.normal_forms(i))\n",
    "from nltk.corpus import stopwords\n",
    "stopwords_ru = stopwords.words(\"russian\")"
   ]
  },
  {
   "cell_type": "code",
   "execution_count": 53,
   "metadata": {},
   "outputs": [],
   "source": [
    "def morphe(str):\n",
    "    return ' '.join([morph.normal_forms(w)[0] for w in str.split() if w not in stopwords_ru])"
   ]
  },
  {
   "cell_type": "code",
   "execution_count": 54,
   "metadata": {},
   "outputs": [
    {
     "data": {
      "text/html": [
       "<div>\n",
       "<style scoped>\n",
       "    .dataframe tbody tr th:only-of-type {\n",
       "        vertical-align: middle;\n",
       "    }\n",
       "\n",
       "    .dataframe tbody tr th {\n",
       "        vertical-align: top;\n",
       "    }\n",
       "\n",
       "    .dataframe thead th {\n",
       "        text-align: right;\n",
       "    }\n",
       "</style>\n",
       "<table border=\"1\" class=\"dataframe\">\n",
       "  <thead>\n",
       "    <tr style=\"text-align: right;\">\n",
       "      <th></th>\n",
       "      <th>query</th>\n",
       "      <th>по должности-лемме</th>\n",
       "      <th>stem_query</th>\n",
       "    </tr>\n",
       "  </thead>\n",
       "  <tbody>\n",
       "    <tr>\n",
       "      <th>0</th>\n",
       "      <td>фарпост работа владивосток</td>\n",
       "      <td>Нет</td>\n",
       "      <td>фарпост работа владивосток</td>\n",
       "    </tr>\n",
       "    <tr>\n",
       "      <th>1</th>\n",
       "      <td>кофейни вакансии</td>\n",
       "      <td>Нет</td>\n",
       "      <td>кофейня вакансия</td>\n",
       "    </tr>\n",
       "    <tr>\n",
       "      <th>2</th>\n",
       "      <td>работа разнорабочие часовой</td>\n",
       "      <td>Рабочий</td>\n",
       "      <td>работа разнорабочий часовой</td>\n",
       "    </tr>\n",
       "    <tr>\n",
       "      <th>3</th>\n",
       "      <td>личный водитель на день</td>\n",
       "      <td>Водитель</td>\n",
       "      <td>личный водитель день</td>\n",
       "    </tr>\n",
       "    <tr>\n",
       "      <th>4</th>\n",
       "      <td>работа от работодателя персональный водитель</td>\n",
       "      <td>Водитель</td>\n",
       "      <td>работа работодатель персональный водитель</td>\n",
       "    </tr>\n",
       "    <tr>\n",
       "      <th>...</th>\n",
       "      <td>...</td>\n",
       "      <td>...</td>\n",
       "      <td>...</td>\n",
       "    </tr>\n",
       "    <tr>\n",
       "      <th>14240</th>\n",
       "      <td>япония вакансии</td>\n",
       "      <td>Нет</td>\n",
       "      <td>япония вакансия</td>\n",
       "    </tr>\n",
       "    <tr>\n",
       "      <th>14241</th>\n",
       "      <td>япония работа</td>\n",
       "      <td>Нет</td>\n",
       "      <td>япония работа</td>\n",
       "    </tr>\n",
       "    <tr>\n",
       "      <th>14242</th>\n",
       "      <td>японский язык работа</td>\n",
       "      <td>Нет</td>\n",
       "      <td>японский язык работа</td>\n",
       "    </tr>\n",
       "    <tr>\n",
       "      <th>14243</th>\n",
       "      <td>яппи вакансии</td>\n",
       "      <td>Нет</td>\n",
       "      <td>яппи вакансия</td>\n",
       "    </tr>\n",
       "    <tr>\n",
       "      <th>14244</th>\n",
       "      <td>ёбидоёби вакансии</td>\n",
       "      <td>Нет</td>\n",
       "      <td>ёбидоёбить вакансия</td>\n",
       "    </tr>\n",
       "  </tbody>\n",
       "</table>\n",
       "<p>14245 rows × 3 columns</p>\n",
       "</div>"
      ],
      "text/plain": [
       "                                              query по должности-лемме  \\\n",
       "0                        фарпост работа владивосток                Нет   \n",
       "1                                  кофейни вакансии                Нет   \n",
       "2                       работа разнорабочие часовой            Рабочий   \n",
       "3                           личный водитель на день           Водитель   \n",
       "4      работа от работодателя персональный водитель           Водитель   \n",
       "...                                             ...                ...   \n",
       "14240                               япония вакансии                Нет   \n",
       "14241                                 япония работа                Нет   \n",
       "14242                          японский язык работа                Нет   \n",
       "14243                                 яппи вакансии                Нет   \n",
       "14244                             ёбидоёби вакансии                Нет   \n",
       "\n",
       "                                      stem_query  \n",
       "0                     фарпост работа владивосток  \n",
       "1                               кофейня вакансия  \n",
       "2                    работа разнорабочий часовой  \n",
       "3                           личный водитель день  \n",
       "4      работа работодатель персональный водитель  \n",
       "...                                          ...  \n",
       "14240                            япония вакансия  \n",
       "14241                              япония работа  \n",
       "14242                       японский язык работа  \n",
       "14243                              яппи вакансия  \n",
       "14244                        ёбидоёбить вакансия  \n",
       "\n",
       "[14245 rows x 3 columns]"
      ]
     },
     "execution_count": 54,
     "metadata": {},
     "output_type": "execute_result"
    }
   ],
   "source": [
    "df = pd.read_csv(\"answers.csv\")\n",
    "df = df[[\"query\", column]]\n",
    "#df = df[df[\"по должности-лемме\"].notna()]\n",
    "df.fillna({column: 'Нет'}, inplace=True)\n",
    "\n",
    "df['stem_query'] = df['query'].apply(morphe)\n",
    "df"
   ]
  },
  {
   "cell_type": "code",
   "execution_count": 55,
   "metadata": {},
   "outputs": [],
   "source": [
    "from sklearn.model_selection import train_test_split\n",
    "\n",
    "sentences = df['stem_query'].values\n",
    "y = df[column].values\n",
    "\n",
    "from sklearn.preprocessing import LabelEncoder\n",
    "\n",
    "encoder = LabelEncoder()\n",
    "y = encoder.fit_transform(y)\n",
    "\n",
    "query_train, query_test, y_train, y_test = train_test_split(sentences, y, test_size=0.25, random_state=1000)"
   ]
  },
  {
   "cell_type": "code",
   "execution_count": 56,
   "metadata": {},
   "outputs": [],
   "source": [
    "from sklearn.feature_extraction.text import CountVectorizer\n",
    "\n",
    "vectorizer = CountVectorizer()\n",
    "vectorizer.fit(sentences)\n",
    "\n",
    "X_train = vectorizer.transform(query_train)\n",
    "X_test  = vectorizer.transform(query_test)"
   ]
  },
  {
   "cell_type": "code",
   "execution_count": 57,
   "metadata": {},
   "outputs": [
    {
     "name": "stdout",
     "output_type": "stream",
     "text": [
      "Accuracy: 0.8966872543514879\n"
     ]
    }
   ],
   "source": [
    "from sklearn.linear_model import LogisticRegression\n",
    "\n",
    "classifier = LogisticRegression()\n",
    "classifier.fit(X_train, y_train)\n",
    "score = classifier.score(X_test, y_test)\n",
    "\n",
    "print(\"Accuracy:\", score)"
   ]
  },
  {
   "cell_type": "code",
   "execution_count": 72,
   "metadata": {},
   "outputs": [
    {
     "name": "stdout",
     "output_type": "stream",
     "text": [
      "Предсказание по должности-лемме: Программист\n"
     ]
    }
   ],
   "source": [
    "def predict_position(query):\n",
    "    query = morphe(query)\n",
    "    query_transformed = vectorizer.transform([query])\n",
    "    prediction = classifier.predict(query_transformed)\n",
    "    return encoder.inverse_transform(prediction)[0]\n",
    "\n",
    "example_query = \"программист\"\n",
    "predicted_position = predict_position(example_query)\n",
    "print(f\"Предсказание {column}:\", predicted_position)"
   ]
  },
  {
   "cell_type": "code",
   "execution_count": null,
   "metadata": {},
   "outputs": [],
   "source": []
  }
 ],
 "metadata": {
  "kernelspec": {
   "display_name": ".venv",
   "language": "python",
   "name": "python3"
  },
  "language_info": {
   "codemirror_mode": {
    "name": "ipython",
    "version": 3
   },
   "file_extension": ".py",
   "mimetype": "text/x-python",
   "name": "python",
   "nbconvert_exporter": "python",
   "pygments_lexer": "ipython3",
   "version": "3.12.4"
  }
 },
 "nbformat": 4,
 "nbformat_minor": 2
}
